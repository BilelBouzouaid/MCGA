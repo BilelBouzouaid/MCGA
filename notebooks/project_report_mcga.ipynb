{
 "cells": [
  {
   "cell_type": "markdown",
   "id": "7908d144",
   "metadata": {},
   "source": [
    "# 🌍 Make Chemistry Green Again\n",
    "\n",
    "## Hello\n",
    "\n",
    "**What if we could measure how environmentally friendly a chemical reaction was?**\n",
    "\n",
    "This was the question that guided the creation of **Make Chemistry Green Again**.  \n",
    "In an era marked by growing environmental challenges, green chemistry has become a vital discipline.  \n",
    "Guided by its 12 foundational principles, green chemistry seeks to minimize or eliminate the use and generation of hazardous substances in chemical processes.\n",
    "\n",
    "---\n",
    "\n",
    "## Introduction\n",
    "\n",
    "**Make Chemistry Green Again** is an interactive tool that evaluates the **greenness and safety** of chemical reactions using the core principles of green chemistry.\n",
    "\n",
    "### 🔍 How it works\n",
    "\n",
    "Simply input your **reactants and products** in any of the following formats:\n",
    "\n",
    "- SMILES\n",
    "- Chemical name\n",
    "- Molecular drawing\n",
    "\n",
    "The app then analyzes the reaction and provides an intuitive, visually guided evaluation.\n",
    "\n",
    "### 🧩 Key features\n",
    "\n",
    "- ✅ **Color-coded safety and environmental scores**  \n",
    "- 🧬 **3D molecular models** of all compounds  \n",
    "- 🔁 **Reaction scheme diagrams**  \n",
    "- ⚠️ **GHS hazard pictograms**  \n",
    "- 💡 **AI-predicted solvents and catalysts that align with green chemistry**\n",
    "\n",
    "---\n",
    "\n",
    "## ✅ Green Chemistry Checklist\n",
    "\n",
    "The heart of the app is the **Green Chemistry Checklist**, based on the 12 Principles of Green Chemistry.  \n",
    "From these, we extract key criteria to calculate a **Greenness Score**, displayed using a **traffic light system**:\n",
    "\n",
    "- 🟥 **Red** – High risk or low efficiency  \n",
    "- 🟧 **Orange** – Acceptable, but needs improvement  \n",
    "- 🟩 **Green** – Good alignment with green chemistry principles\n",
    "\n",
    "---\n",
    "\n",
    "### Conditions Evaluated\n",
    "\n",
    "**1. Atom Economy**  \n",
    "*Principle #2 – Maximize incorporation of all materials into the final product.*\n",
    "\n",
    "**2. E-Factor (Environmental Factor)**  \n",
    "*Principle #1 – Prevent waste instead of treating it after formation.*\n",
    "\n",
    "**3. Hazardous By-Products**  \n",
    "*Principle #3 – Minimize toxicity to human health and the environment.*\n",
    "\n",
    "**4. Fire & Explosion Risk**  \n",
    "*Principle #12 – Design processes to reduce the risk of chemical accidents.*\n",
    "\n",
    "---\n",
    "\n",
    "## 🔒 Chemical Safety Insights\n",
    "\n",
    "Each evaluated reaction includes a **detailed safety report** for all chemicals involved:\n",
    "\n",
    "- ⚠️ **Hazard statements**  \n",
    "- 📛 **GHS pictograms**  \n",
    "- 📊 **Clear risk breakdowns**\n",
    "\n",
    "These insights allow users to **revise and re-evaluate** their reactions based on feedback,  \n",
    "encouraging safer and more sustainable chemistry."
   ]
  },
  {
   "cell_type": "markdown",
   "id": "16bf9eb3",
   "metadata": {},
   "source": [
    "### 1. Predicting the Most Suitable Solvent and Catalyst\n",
    "\n",
    "To recommend the **best solvent and catalyst** for a given reaction, we use **Google’s Gemini-2 Flash Lite model** – chosen for its **speed** and **efficiency**.\n",
    "\n",
    "---\n",
    "\n",
    "### 🧠 How it works\n",
    "\n",
    "The function `predict_conditions_with_gemini(reactants, products)` sends a **structured prompt** to the Gemini API. This prompt:\n",
    "\n",
    "- Frames the task as one suited for a **professional chemist**\n",
    "- Provides the **reactants and products in SMILES format**\n",
    "- Asks Gemini to consider:\n",
    "  - ✅ Solubility  \n",
    "  - 🔄 Reaction mechanism  \n",
    "  - 🌱 Green chemistry principles  \n",
    "\n",
    "Gemini responds with a **JSON** containing:\n",
    "- The most suitable **solvent**\n",
    "- The most suitable **catalyst**\n",
    "- A **confidence score** (estimated by the model)\n",
    "\n",
    "> ℹ️ *The confidence score is superficial but helps filter out unusual predictions.*\n",
    "\n",
    "---\n",
    "\n",
    "### Gemini Configuration\n",
    "\n",
    "| Parameter      | Value | Purpose                                  |\n",
    "|----------------|--------|------------------------------------------|\n",
    "| `temperature`  | `0.1`  | Ensures stable and repeatable outputs     |\n",
    "| `top_p`        | `0.95` | Allows a bit of diversity                 |\n",
    "| `top_k`        | `40`   | Limits output to top-ranked token choices |\n"
   ]
  },
  {
   "cell_type": "code",
   "execution_count": 5,
   "id": "a23f4102",
   "metadata": {},
   "outputs": [
    {
     "ename": "SyntaxError",
     "evalue": "invalid syntax (4222978515.py, line 3)",
     "output_type": "error",
     "traceback": [
      "\u001b[1;36m  Cell \u001b[1;32mIn[5], line 3\u001b[1;36m\u001b[0m\n\u001b[1;33m    .... to be finished\u001b[0m\n\u001b[1;37m            ^\u001b[0m\n\u001b[1;31mSyntaxError\u001b[0m\u001b[1;31m:\u001b[0m invalid syntax\n"
     ]
    }
   ],
   "source": [
    "import streamlit as st\n",
    "import google.generativeai as genai\n",
    ".... to be finished"
   ]
  },
  {
   "cell_type": "markdown",
   "id": "236618d2",
   "metadata": {},
   "source": [
    "## 2. Basic Functions and Examples\n"
   ]
  },
  {
   "cell_type": "code",
   "execution_count": null,
   "id": "b7e744af",
   "metadata": {},
   "outputs": [],
   "source": [
    "import sys\n",
    "sys.path.append('../src')  \n",
    "from mcga.app import (\n",
    "    display_metric_feedback,\n",
    "    calculate_atom_economy_balanced,\n",
    "    calculate_efactor_balanced\n",
    ")\n",
    "from mcga.balancing_equations import ( get_balanced_equation)\n"
   ]
  },
  {
   "cell_type": "markdown",
   "id": "bcaea7f1",
   "metadata": {},
   "source": [
    "### `display_metric_feedback`\n",
    "\n",
    "This function is the **backbone of visual scoring**. It uses a **traffic light color system** to give intuitive feedback on green chemistry criteria.\n",
    "\n",
    "It can accept:\n",
    "- Quantitative values (e.g. 75% atom economy)\n",
    "- Qualitative categories (e.g. \"low\", \"medium\", \"high\")\n",
    "\n",
    "Thresholds or categories must be specified by the caller.\n"
   ]
  },
  {
   "cell_type": "code",
   "execution_count": 2,
   "id": "37ccfd9b",
   "metadata": {},
   "outputs": [
    {
     "ename": "NameError",
     "evalue": "name 'display_metric_feedback' is not defined",
     "output_type": "error",
     "traceback": [
      "\u001b[1;31m---------------------------------------------------------------------------\u001b[0m",
      "\u001b[1;31mNameError\u001b[0m                                 Traceback (most recent call last)",
      "Cell \u001b[1;32mIn[2], line 1\u001b[0m\n\u001b[1;32m----> 1\u001b[0m \u001b[43mdisplay_metric_feedback\u001b[49m(\u001b[38;5;124m\"\u001b[39m\u001b[38;5;124matom_economy\u001b[39m\u001b[38;5;124m\"\u001b[39m, \u001b[38;5;241m75\u001b[39m, thresholds\u001b[38;5;241m=\u001b[39m[\u001b[38;5;241m50\u001b[39m, \u001b[38;5;241m80\u001b[39m], higher_is_better\u001b[38;5;241m=\u001b[39m\u001b[38;5;28;01mTrue\u001b[39;00m)\n",
      "\u001b[1;31mNameError\u001b[0m: name 'display_metric_feedback' is not defined"
     ]
    }
   ],
   "source": [
    "display_metric_feedback(\"atom_economy\", 75, thresholds=[50, 80], higher_is_better=True)"
   ]
  },
  {
   "cell_type": "markdown",
   "id": "d2224dd6",
   "metadata": {},
   "source": [
    "### `get_balanced_equation`\n",
    "\n",
    "This function converts SMILES strings into molecular formulas and returns a **balanced chemical equation** using RDKit and ChemPy.\n",
    "\n",
    "It is critical for calculating metrics like **atom economy** and **E-factor**.\n"
   ]
  },
  {
   "cell_type": "code",
   "execution_count": 3,
   "id": "1cf9a5d2",
   "metadata": {},
   "outputs": [
    {
     "ename": "NameError",
     "evalue": "name 'get_balanced_equation' is not defined",
     "output_type": "error",
     "traceback": [
      "\u001b[1;31m---------------------------------------------------------------------------\u001b[0m",
      "\u001b[1;31mNameError\u001b[0m                                 Traceback (most recent call last)",
      "Cell \u001b[1;32mIn[3], line 2\u001b[0m\n\u001b[0;32m      1\u001b[0m reaction_smiles \u001b[38;5;241m=\u001b[39m \u001b[38;5;124m\"\u001b[39m\u001b[38;5;124mCCO.O=O>>C(=O)=O.O\u001b[39m\u001b[38;5;124m\"\u001b[39m\n\u001b[1;32m----> 2\u001b[0m balanced \u001b[38;5;241m=\u001b[39m \u001b[43mget_balanced_equation\u001b[49m(reaction_smiles)\n\u001b[0;32m      3\u001b[0m \u001b[38;5;28mprint\u001b[39m(\u001b[38;5;124m\"\u001b[39m\u001b[38;5;124mBalanced equation:\u001b[39m\u001b[38;5;124m\"\u001b[39m)\n\u001b[0;32m      4\u001b[0m \u001b[38;5;28mprint\u001b[39m(balanced)\n",
      "\u001b[1;31mNameError\u001b[0m: name 'get_balanced_equation' is not defined"
     ]
    }
   ],
   "source": [
    "reaction_smiles = \"CCO.O=O>>C(=O)=O.O\"\n",
    "balanced = get_balanced_equation(reaction_smiles)\n",
    "print(\"Balanced equation:\")\n",
    "print(balanced)"
   ]
  },
  {
   "cell_type": "markdown",
   "id": "a2709a99",
   "metadata": {},
   "source": [
    "### `calculate_atom_economy_balanced`\n",
    "\n",
    "Calculates the **atom economy** of a reaction using the balanced equation.\n",
    "Atom economy = (mass of desired product / total mass of reactants) × 100\n",
    "\n",
    "You must provide the desired product's formula (e.g., `\"CO2\"` or `\"C(=O)=O\"`).\n"
   ]
  },
  {
   "cell_type": "code",
   "execution_count": null,
   "id": "b2a4c831",
   "metadata": {},
   "outputs": [],
   "source": [
    "ae = calculate_atom_economy_balanced(balanced, desired_product=\"CO2\")\n",
    "print(f\"Atom Economy: {ae:.2f}%\")"
   ]
  },
  {
   "cell_type": "markdown",
   "id": "0832880e",
   "metadata": {},
   "source": [
    "### `calculate_efactor_balanced`\n",
    "\n",
    "Calculates the **E-factor** = (total waste / desired product mass)\n",
    "\n",
    "This helps assess how much **non-useful material** is generated per unit of product.\n"
   ]
  },
  {
   "cell_type": "code",
   "execution_count": null,
   "id": "4a27d4ef",
   "metadata": {},
   "outputs": [],
   "source": [
    "ef = calculate_efactor_balanced(balanced, desired_product=\"CO2\")\n",
    "print(f\"E-Factor: {ef:.2f}\")"
   ]
  },
  {
   "cell_type": "markdown",
   "id": "dec0e1af",
   "metadata": {},
   "source": [
    "## 3. Working with PubChem\n",
    "\n",
    "### CID\n",
    "To evaluate some of our criteria, we need to ask the PubChem website (https://pubchem.ncbi.nlm.nih.gov/) however PubChem is organised using CIDs (Compound IDs) which are identifiers for each chemical molecule registered in the PubChem database. \n",
    "PubChem database. This makes it possible to find all the information relating to this molecule, such as its structure, physical properties or even toxicity. The function get_cid takes a molecule under SMILES representation as input and outputs its CID. Below is an example to show that it is a CID:\n"
   ]
  },
  {
   "cell_type": "code",
   "execution_count": 4,
   "id": "c60e1425",
   "metadata": {},
   "outputs": [
    {
     "name": "stderr",
     "output_type": "stream",
     "text": [
      "2025-05-22 21:23:47.166 WARNING streamlit.runtime.scriptrunner_utils.script_run_context: Thread 'MainThread': missing ScriptRunContext! This warning can be ignored when running in bare mode.\n",
      "c:\\Users\\T460\\.conda\\envs\\mcgaenv\\lib\\site-packages\\tqdm\\auto.py:21: TqdmWarning: IProgress not found. Please update jupyter and ipywidgets. See https://ipywidgets.readthedocs.io/en/stable/user_install.html\n",
      "  from .autonotebook import tqdm as notebook_tqdm\n",
      "2025-05-22 21:23:49.456 WARNING streamlit.runtime.caching.cache_data_api: No runtime found, using MemoryCacheStorageManager\n",
      "2025-05-22 21:23:49.463 WARNING streamlit.runtime.caching.cache_data_api: No runtime found, using MemoryCacheStorageManager\n",
      "2025-05-22 21:23:49.467 WARNING streamlit.runtime.caching.cache_data_api: No runtime found, using MemoryCacheStorageManager\n",
      "2025-05-22 21:23:49.469 WARNING streamlit.runtime.caching.cache_data_api: No runtime found, using MemoryCacheStorageManager\n"
     ]
    },
    {
     "ename": "ModuleNotFoundError",
     "evalue": "No module named 'balancing_equations'",
     "output_type": "error",
     "traceback": [
      "\u001b[1;31m---------------------------------------------------------------------------\u001b[0m",
      "\u001b[1;31mModuleNotFoundError\u001b[0m                       Traceback (most recent call last)",
      "Cell \u001b[1;32mIn[4], line 1\u001b[0m\n\u001b[1;32m----> 1\u001b[0m \u001b[38;5;28;01mfrom\u001b[39;00m\u001b[38;5;250m \u001b[39m\u001b[38;5;21;01mmcga\u001b[39;00m\u001b[38;5;21;01m.\u001b[39;00m\u001b[38;5;21;01mapp\u001b[39;00m\u001b[38;5;250m \u001b[39m\u001b[38;5;28;01mimport\u001b[39;00m get_cid\n\u001b[0;32m      3\u001b[0m smiles_aspirin \u001b[38;5;241m=\u001b[39m \u001b[38;5;124m\"\u001b[39m\u001b[38;5;124mCC(=O)OC1=CC=CC=C1C(=O)O\u001b[39m\u001b[38;5;124m\"\u001b[39m\n\u001b[0;32m      4\u001b[0m cid_aspirin \u001b[38;5;241m=\u001b[39m get_cid(smiles_aspirin)\n",
      "File \u001b[1;32m~\\projectgreen\\mcga\\src\\mcga\\app.py:19\u001b[0m\n\u001b[0;32m     13\u001b[0m \u001b[38;5;28;01mimport\u001b[39;00m\u001b[38;5;250m \u001b[39m\u001b[38;5;21;01mpy3Dmol\u001b[39;00m\n\u001b[0;32m     14\u001b[0m \u001b[38;5;28;01mfrom\u001b[39;00m\u001b[38;5;250m \u001b[39m\u001b[38;5;21;01mmcga\u001b[39;00m\u001b[38;5;21;01m.\u001b[39;00m\u001b[38;5;21;01mlookup\u001b[39;00m\u001b[38;5;250m \u001b[39m\u001b[38;5;28;01mimport\u001b[39;00m (\n\u001b[0;32m     15\u001b[0m     get_flash_point_from_smiles,\n\u001b[0;32m     16\u001b[0m     get_ghs_data,\n\u001b[0;32m     17\u001b[0m     hazard_statements,\n\u001b[0;32m     18\u001b[0m )\n\u001b[1;32m---> 19\u001b[0m \u001b[38;5;28;01mfrom\u001b[39;00m\u001b[38;5;250m \u001b[39m\u001b[38;5;21;01mbalancing_equations\u001b[39;00m\u001b[38;5;250m \u001b[39m\u001b[38;5;28;01mimport\u001b[39;00m get_balanced_equation\n\u001b[0;32m     20\u001b[0m \u001b[38;5;28;01mfrom\u001b[39;00m\u001b[38;5;250m \u001b[39m\u001b[38;5;21;01mrdkit\u001b[39;00m\u001b[38;5;21;01m.\u001b[39;00m\u001b[38;5;21;01mChem\u001b[39;00m\u001b[38;5;250m \u001b[39m\u001b[38;5;28;01mimport\u001b[39;00m Descriptors\n\u001b[0;32m     22\u001b[0m \u001b[38;5;66;03m# ── ASSETS & PICTO MAP ──────────────────────────────────\u001b[39;00m\n",
      "\u001b[1;31mModuleNotFoundError\u001b[0m: No module named 'balancing_equations'"
     ]
    }
   ],
   "source": [
    "from mcga.app import get_cid\n",
    "\n",
    "smiles_aspirin = \"CC(=O)OC1=CC=CC=C1C(=O)O\"\n",
    "cid_aspirin = get_cid(smiles_aspirin)\n",
    "\n",
    "print(cid_aspirin)\n"
   ]
  },
  {
   "cell_type": "markdown",
   "id": "a4dc8ea9",
   "metadata": {},
   "source": [
    "### Flash Point\n",
    "As mentioned above, it can have multiple physical properties, such as flash point. This is the lowest temperature at which it emits enough vapour to form a flammable mixture with air. The function get_flash_point_from_smiles takes a SMILES representation of a molecule as input and gives the flash point in degrees Celsius. Let’s go back to the example of aspirin :\n"
   ]
  },
  {
   "cell_type": "code",
   "execution_count": null,
   "id": "bada96dc",
   "metadata": {},
   "outputs": [],
   "source": [
    "from mcga.app import get_flash_point_from_smiles\n",
    "\n",
    "flash_point = get_flash_point_from_smiles(smiles_aspirin)\n",
    "\n",
    "print(f\"Flash point of your molecule is {flash_point}°C\")\n"
   ]
  },
  {
   "cell_type": "markdown",
   "id": "6ad0b6f2",
   "metadata": {},
   "source": [
    "### H codes\n",
    "For several principles, the toxicity of reagents, products and solvents needs to be considered. To estimate the hazardousness, the H codes, which are hazard statements, provide a clear picture of the risks incurred by chemical products. The function get_get_ghs_data also takes a SMILES representation of a molecule as input and then goes to PubChem to output a list of H codes as output. Let's take another example using benzene :\n"
   ]
  },
  {
   "cell_type": "code",
   "execution_count": null,
   "id": "e664bfea",
   "metadata": {},
   "outputs": [],
   "source": [
    "... TO BE TESTED\n"
   ]
  },
  {
   "cell_type": "markdown",
   "id": "c021a2de",
   "metadata": {},
   "source": [
    "### Hazard class pictograms 🔥☠️⚠️\n",
    "With the H codes that we have found, we can associate them with the hazard pictograms, which makes it easier to understand and classify the risks that the product may cause. The function is_toxic has as input the SMILES of the molecule and outputs the list of classes that represent a real danger to which the molecule belongs.\n"
   ]
  },
  {
   "cell_type": "code",
   "execution_count": null,
   "id": "77fd4775",
   "metadata": {},
   "outputs": [],
   "source": [
    "... TO BE TESTED\n"
   ]
  },
  {
   "cell_type": "markdown",
   "id": "8545d80d",
   "metadata": {},
   "source": [
    "## 4.Discussion\n",
    "\n",
    "### Difficulties encountered\n",
    "\n",
    "Before starting the project, we had to make several decisions about which green chemistry principles could realistically be evaluated. Some principles proved too time consuming or nearly impossible to assess, such as estimating the energy consumption of a reaction or determining whether renewable raw materials were used. These aspects were difficult to judge because we often lacked detailed information about the experimental conditions. In other cases, such as assessing the half-life of products to evaluate their environmental persistence, we simply could not find appropriate databases or reliable data.\n",
    "\n",
    "Another challenge was finding the right reaction conditions, specifically the solvent or catalyst when the user did not provide them. To address this, we decided to use machine learning to predict these elements automatically. However, tools like ORDerly or the RXN Condition Selector were too complex for us to implement due to our limited experience, and we were unable to get them working.\n",
    "\n",
    "While integrating Gemini, one of the first issues we faced involved managing the API key. Initially, the key was hardcoded directly into the script. Recognizing the security risk, we later moved it to a hidden configuration file using Streamlit’s `secrets.toml` mechanism. This allowed us to access it securely using `st.secrets`, preventing the key from being exposed when pushing the code to public repositories like GitHub.\n",
    "\n",
    "We also encountered difficulties while trying to use the ECOTOX database to retrieve LD50 values. The dataset was massive; over 1 GB across 53 text files and parsing it proved more complicated than expected. Critical metrics like LD50 or BAF were inconsistently formatted and scattered across multiple files, making automation unreliable. Attempts to retrieve LD50 data directly from PubChem also failed. Ultimately, integrating toxicological data at scale required far more preprocessing and structure than we initially anticipated.\n"
   ]
  },
  {
   "cell_type": "code",
   "execution_count": null,
   "id": "59000f4c",
   "metadata": {},
   "outputs": [],
   "source": []
  }
 ],
 "metadata": {
  "kernelspec": {
   "display_name": "mcgaenv",
   "language": "python",
   "name": "python3"
  },
  "language_info": {
   "codemirror_mode": {
    "name": "ipython",
    "version": 3
   },
   "file_extension": ".py",
   "mimetype": "text/x-python",
   "name": "python",
   "nbconvert_exporter": "python",
   "pygments_lexer": "ipython3",
   "version": "3.10.16"
  }
 },
 "nbformat": 4,
 "nbformat_minor": 5
}
