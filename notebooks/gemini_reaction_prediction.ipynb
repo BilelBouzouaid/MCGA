{
 "cells": [
  {
   "cell_type": "markdown",
   "metadata": {},
   "source": [
    "## Predicting the most suited solvent and catalyst using Gemini\n",
    "\n",
    "This notebook demonstrates how to use Google's Gemini model (`gemini-2.0-flash-lite`) to predict reaction conditions from SMILES strings, as done in the Green Chemistry app.\n",
    "\n",
    "We read the API key from `.streamlit/secrets.toml` and query the Gemini API for predictions.\n"
   ]
  },
  {
   "cell_type": "code",
   "execution_count": null,
   "metadata": {},
   "outputs": [
    {
     "name": "stdout",
     "output_type": "stream",
     "text": [
      "Requirement already satisfied: google-generativeai in c:\\users\\bouzouaid bilel\\.conda\\envs\\mcga\\lib\\site-packages (0.8.5)\n",
      "Requirement already satisfied: toml in c:\\users\\bouzouaid bilel\\.conda\\envs\\mcga\\lib\\site-packages (0.10.2)\n",
      "Requirement already satisfied: google-ai-generativelanguage==0.6.15 in c:\\users\\bouzouaid bilel\\.conda\\envs\\mcga\\lib\\site-packages (from google-generativeai) (0.6.15)\n",
      "Requirement already satisfied: google-api-core in c:\\users\\bouzouaid bilel\\.conda\\envs\\mcga\\lib\\site-packages (from google-generativeai) (2.25.0rc1)\n",
      "Requirement already satisfied: google-api-python-client in c:\\users\\bouzouaid bilel\\.conda\\envs\\mcga\\lib\\site-packages (from google-generativeai) (2.169.0)\n",
      "Requirement already satisfied: google-auth>=2.15.0 in c:\\users\\bouzouaid bilel\\.conda\\envs\\mcga\\lib\\site-packages (from google-generativeai) (2.40.1)\n",
      "Requirement already satisfied: protobuf in c:\\users\\bouzouaid bilel\\.conda\\envs\\mcga\\lib\\site-packages (from google-generativeai) (5.29.4)\n",
      "Requirement already satisfied: pydantic in c:\\users\\bouzouaid bilel\\.conda\\envs\\mcga\\lib\\site-packages (from google-generativeai) (2.11.4)\n",
      "Requirement already satisfied: tqdm in c:\\users\\bouzouaid bilel\\.conda\\envs\\mcga\\lib\\site-packages (from google-generativeai) (4.67.1)\n",
      "Requirement already satisfied: typing-extensions in c:\\users\\bouzouaid bilel\\.conda\\envs\\mcga\\lib\\site-packages (from google-generativeai) (4.13.2)\n",
      "Requirement already satisfied: proto-plus<2.0.0dev,>=1.22.3 in c:\\users\\bouzouaid bilel\\.conda\\envs\\mcga\\lib\\site-packages (from google-ai-generativelanguage==0.6.15->google-generativeai) (1.26.1)\n",
      "Requirement already satisfied: googleapis-common-protos<2.0.0,>=1.56.2 in c:\\users\\bouzouaid bilel\\.conda\\envs\\mcga\\lib\\site-packages (from google-api-core->google-generativeai) (1.70.0)\n",
      "Requirement already satisfied: requests<3.0.0,>=2.18.0 in c:\\users\\bouzouaid bilel\\.conda\\envs\\mcga\\lib\\site-packages (from google-api-core->google-generativeai) (2.32.3)\n",
      "Requirement already satisfied: grpcio<2.0.0,>=1.33.2 in c:\\users\\bouzouaid bilel\\.conda\\envs\\mcga\\lib\\site-packages (from google-api-core[grpc]!=2.0.*,!=2.1.*,!=2.10.*,!=2.2.*,!=2.3.*,!=2.4.*,!=2.5.*,!=2.6.*,!=2.7.*,!=2.8.*,!=2.9.*,<3.0.0dev,>=1.34.1->google-ai-generativelanguage==0.6.15->google-generativeai) (1.71.0)\n",
      "Requirement already satisfied: grpcio-status<2.0.0,>=1.33.2 in c:\\users\\bouzouaid bilel\\.conda\\envs\\mcga\\lib\\site-packages (from google-api-core[grpc]!=2.0.*,!=2.1.*,!=2.10.*,!=2.2.*,!=2.3.*,!=2.4.*,!=2.5.*,!=2.6.*,!=2.7.*,!=2.8.*,!=2.9.*,<3.0.0dev,>=1.34.1->google-ai-generativelanguage==0.6.15->google-generativeai) (1.71.0)\n",
      "Requirement already satisfied: cachetools<6.0,>=2.0.0 in c:\\users\\bouzouaid bilel\\.conda\\envs\\mcga\\lib\\site-packages (from google-auth>=2.15.0->google-generativeai) (5.5.2)\n",
      "Requirement already satisfied: pyasn1-modules>=0.2.1 in c:\\users\\bouzouaid bilel\\.conda\\envs\\mcga\\lib\\site-packages (from google-auth>=2.15.0->google-generativeai) (0.4.2)\n",
      "Requirement already satisfied: rsa<5,>=3.1.4 in c:\\users\\bouzouaid bilel\\.conda\\envs\\mcga\\lib\\site-packages (from google-auth>=2.15.0->google-generativeai) (4.9.1)\n",
      "Requirement already satisfied: charset-normalizer<4,>=2 in c:\\users\\bouzouaid bilel\\.conda\\envs\\mcga\\lib\\site-packages (from requests<3.0.0,>=2.18.0->google-api-core->google-generativeai) (3.4.2)\n",
      "Requirement already satisfied: idna<4,>=2.5 in c:\\users\\bouzouaid bilel\\.conda\\envs\\mcga\\lib\\site-packages (from requests<3.0.0,>=2.18.0->google-api-core->google-generativeai) (3.10)\n",
      "Requirement already satisfied: urllib3<3,>=1.21.1 in c:\\users\\bouzouaid bilel\\.conda\\envs\\mcga\\lib\\site-packages (from requests<3.0.0,>=2.18.0->google-api-core->google-generativeai) (2.4.0)\n",
      "Requirement already satisfied: certifi>=2017.4.17 in c:\\users\\bouzouaid bilel\\.conda\\envs\\mcga\\lib\\site-packages (from requests<3.0.0,>=2.18.0->google-api-core->google-generativeai) (2025.4.26)\n",
      "Requirement already satisfied: pyasn1>=0.1.3 in c:\\users\\bouzouaid bilel\\.conda\\envs\\mcga\\lib\\site-packages (from rsa<5,>=3.1.4->google-auth>=2.15.0->google-generativeai) (0.6.1)\n",
      "Requirement already satisfied: httplib2<1.0.0,>=0.19.0 in c:\\users\\bouzouaid bilel\\.conda\\envs\\mcga\\lib\\site-packages (from google-api-python-client->google-generativeai) (0.22.0)\n",
      "Requirement already satisfied: google-auth-httplib2<1.0.0,>=0.2.0 in c:\\users\\bouzouaid bilel\\.conda\\envs\\mcga\\lib\\site-packages (from google-api-python-client->google-generativeai) (0.2.0)\n",
      "Requirement already satisfied: uritemplate<5,>=3.0.1 in c:\\users\\bouzouaid bilel\\.conda\\envs\\mcga\\lib\\site-packages (from google-api-python-client->google-generativeai) (4.1.1)\n",
      "Requirement already satisfied: pyparsing!=3.0.0,!=3.0.1,!=3.0.2,!=3.0.3,<4,>=2.4.2 in c:\\users\\bouzouaid bilel\\.conda\\envs\\mcga\\lib\\site-packages (from httplib2<1.0.0,>=0.19.0->google-api-python-client->google-generativeai) (3.2.3)\n",
      "Requirement already satisfied: annotated-types>=0.6.0 in c:\\users\\bouzouaid bilel\\.conda\\envs\\mcga\\lib\\site-packages (from pydantic->google-generativeai) (0.7.0)\n",
      "Requirement already satisfied: pydantic-core==2.33.2 in c:\\users\\bouzouaid bilel\\.conda\\envs\\mcga\\lib\\site-packages (from pydantic->google-generativeai) (2.33.2)\n",
      "Requirement already satisfied: typing-inspection>=0.4.0 in c:\\users\\bouzouaid bilel\\.conda\\envs\\mcga\\lib\\site-packages (from pydantic->google-generativeai) (0.4.0)\n",
      "Requirement already satisfied: colorama in c:\\users\\bouzouaid bilel\\.conda\\envs\\mcga\\lib\\site-packages (from tqdm->google-generativeai) (0.4.6)\n"
     ]
    },
    {
     "name": "stderr",
     "output_type": "stream",
     "text": [
      "\n",
      "[notice] A new release of pip is available: 25.1 -> 25.1.1\n",
      "[notice] To update, run: python.exe -m pip install --upgrade pip\n"
     ]
    }
   ],
   "source": [
    "# Install the required packages if missing\n",
    "%pip install google-generativeai toml"
   ]
  },
  {
   "cell_type": "code",
   "execution_count": null,
   "metadata": {},
   "outputs": [
    {
     "name": "stdout",
     "output_type": "stream",
     "text": [
      "Prompt: What is the name of the molecule with the chemical formula H2O?\n",
      "Gemini response: The molecule with the chemical formula H2O is called **water**.\n"
     ]
    }
   ],
   "source": [
    "import streamlit as st\n",
    "import google.generativeai as genai\n",
    "\n",
    "# Get API key from Streamlit's secret manager\n",
    "api_key = st.secrets[\"GEMINI_API_KEY\"]\n",
    "genai.configure(api_key=api_key)\n",
    "\n",
    "# Create the model instance\n",
    "model = genai.GenerativeModel(\"gemini-2.0-flash-lite\")\n",
    "\n",
    "# Define your prompt\n",
    "prompt = \"Quelles sont les raisons de la chute de lempire napoleonien?\"\n",
    "\n",
    "# Generate the response\n",
    "response = model.generate_content(prompt)\n",
    "\n",
    "# Print the response to console\n",
    "print(\"Prompt:\", prompt)\n",
    "print(\"Gemini response:\", response.text.strip())\n"
   ]
  },
  {
   "cell_type": "markdown",
   "metadata": {},
   "source": [
    "### Example: Ask the name of a simple molecule\n",
    "This shows how the Gemini model responds to chemical questions."
   ]
  },
  {
   "cell_type": "code",
   "execution_count": 3,
   "metadata": {},
   "outputs": [
    {
     "name": "stdout",
     "output_type": "stream",
     "text": [
      "The molecule with the chemical formula H2O is called **water**.\n"
     ]
    }
   ],
   "source": [
    "model = genai.GenerativeModel(\"gemini-2.0-flash-lite\")\n",
    "prompt = \"What is the name of the molecule with the chemical formula H2O?\"\n",
    "response = model.generate_content(prompt)\n",
    "print(response.text.strip())"
   ]
  },
  {
   "cell_type": "markdown",
   "metadata": {},
   "source": [
    "### Example: Predict solvent and catalyst for a reaction\n",
    "Input: SMILES strings for reactants and products"
   ]
  },
  {
   "cell_type": "code",
   "execution_count": null,
   "metadata": {},
   "outputs": [
    {
     "ename": "ValueError",
     "evalue": "Format specifier missing precision",
     "output_type": "error",
     "traceback": [
      "\u001b[1;31m---------------------------------------------------------------------------\u001b[0m",
      "\u001b[1;31mValueError\u001b[0m                                Traceback (most recent call last)",
      "Cell \u001b[1;32mIn[4], line 4\u001b[0m\n\u001b[0;32m      1\u001b[0m reactants \u001b[38;5;241m=\u001b[39m [\u001b[38;5;124m\"\u001b[39m\u001b[38;5;124mCC(=O)OC1=CC=CC=C1C(=O)O\u001b[39m\u001b[38;5;124m\"\u001b[39m]  \u001b[38;5;66;03m# Aspirin precursor\u001b[39;00m\n\u001b[0;32m      2\u001b[0m products \u001b[38;5;241m=\u001b[39m [\u001b[38;5;124m\"\u001b[39m\u001b[38;5;124mCC(=O)OC1=CC=CC=C1C(=O)O\u001b[39m\u001b[38;5;124m\"\u001b[39m]   \u001b[38;5;66;03m# Aspirin\u001b[39;00m\n\u001b[1;32m----> 4\u001b[0m prompt \u001b[38;5;241m=\u001b[39m \u001b[38;5;124mf\u001b[39m\u001b[38;5;124m'''\u001b[39m\n\u001b[0;32m      5\u001b[0m \u001b[38;5;124mAs an expert in organic chemistry, determine the best solvent and catalyst.\u001b[39m\n\u001b[0;32m      6\u001b[0m \u001b[38;5;124mReactants (SMILES): \u001b[39m\u001b[38;5;132;01m{\u001b[39;00m\u001b[38;5;124m'\u001b[39m\u001b[38;5;124m, \u001b[39m\u001b[38;5;124m'\u001b[39m\u001b[38;5;241m.\u001b[39mjoin(reactants)\u001b[38;5;132;01m}\u001b[39;00m\n\u001b[0;32m      7\u001b[0m \u001b[38;5;124mProducts (SMILES): \u001b[39m\u001b[38;5;132;01m{\u001b[39;00m\u001b[38;5;124m'\u001b[39m\u001b[38;5;124m, \u001b[39m\u001b[38;5;124m'\u001b[39m\u001b[38;5;241m.\u001b[39mjoin(products)\u001b[38;5;132;01m}\u001b[39;00m\n\u001b[0;32m      8\u001b[0m \u001b[38;5;124mRespond with a JSON: \u001b[39m\u001b[38;5;132;01m{\u001b[39;00m\u001b[38;5;124m\"\u001b[39m\u001b[38;5;124msolvent\u001b[39m\u001b[38;5;124m\"\u001b[39m\u001b[38;5;132;01m:\u001b[39;00m\u001b[38;5;124m ..., \u001b[39m\u001b[38;5;124m\"\u001b[39m\u001b[38;5;124mcatalyst\u001b[39m\u001b[38;5;124m\"\u001b[39m\u001b[38;5;124m: ..., \u001b[39m\u001b[38;5;124m\"\u001b[39m\u001b[38;5;124mconfidence_score\u001b[39m\u001b[38;5;124m\"\u001b[39m\u001b[38;5;124m: ...\u001b[39m\u001b[38;5;132;01m}\u001b[39;00m\n\u001b[0;32m      9\u001b[0m \u001b[38;5;124m'''\u001b[39m\n\u001b[0;32m     11\u001b[0m response \u001b[38;5;241m=\u001b[39m model\u001b[38;5;241m.\u001b[39mgenerate_content(prompt)\n\u001b[0;32m     12\u001b[0m \u001b[38;5;28mprint\u001b[39m(response\u001b[38;5;241m.\u001b[39mtext\u001b[38;5;241m.\u001b[39mstrip())\n",
      "\u001b[1;31mValueError\u001b[0m: Format specifier missing precision"
     ]
    }
   ],
   "source": [
    "reactants = [\"CC(=O)OC1=CC=CC=C1C(=O)O\"]  # Aspirin precursor\n",
    "products =  [\"CC(=O)OC1=CC=CC=C1C(=O)O\"]   # Aspirin\n",
    "\n",
    "prompt = f'''\n",
    "As an expert in organic chemistry, determine the best solvent and catalyst.\n",
    "Reactants (SMILES): {', '.join(reactants)}\n",
    "Products (SMILES): {', '.join(products)}\n",
    "Respond with a JSON: {\"solvent\": ..., \"catalyst\": ..., \"confidence_score\": ...}\n",
    "'''\n",
    "\n",
    "response = model.generate_content(prompt)\n",
    "print(response.text.strip())"
   ]
  }
 ],
 "metadata": {
  "kernelspec": {
   "display_name": "Python 3",
   "language": "python",
   "name": "python3"
  },
  "language_info": {
   "codemirror_mode": {
    "name": "ipython",
    "version": 3
   },
   "file_extension": ".py",
   "mimetype": "text/x-python",
   "name": "python",
   "nbconvert_exporter": "python",
   "pygments_lexer": "ipython3",
   "version": "3.10.17"
  }
 },
 "nbformat": 4,
 "nbformat_minor": 2
}
